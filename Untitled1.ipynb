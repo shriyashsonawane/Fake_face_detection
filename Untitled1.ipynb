{
  "cells": [
    {
      "cell_type": "markdown",
      "metadata": {
        "id": "view-in-github",
        "colab_type": "text"
      },
      "source": [
        "<a href=\"https://colab.research.google.com/github/shriyashsonawane/Fake_face_detection/blob/main/Untitled1.ipynb\" target=\"_parent\"><img src=\"https://colab.research.google.com/assets/colab-badge.svg\" alt=\"Open In Colab\"/></a>"
      ]
    },
    {
      "cell_type": "code",
      "execution_count": 1,
      "metadata": {
        "colab": {
          "base_uri": "https://localhost:8080/"
        },
        "id": "6_FN3dg6HgeF",
        "outputId": "de4272d5-6275-4639-c097-63d8b2a8ada2"
      },
      "outputs": [
        {
          "output_type": "stream",
          "name": "stdout",
          "text": [
            "Drive already mounted at /content/drive; to attempt to forcibly remount, call drive.mount(\"/content/drive\", force_remount=True).\n"
          ]
        }
      ],
      "source": [
        "from google.colab import drive\n",
        "drive.mount('/content/drive')"
      ]
    },
    {
      "cell_type": "code",
      "execution_count": 2,
      "metadata": {
        "id": "yiWBljeFHjlM"
      },
      "outputs": [],
      "source": [
        "import keras\n",
        "import tensorflow as tf\n",
        "from keras.preprocessing.image import ImageDataGenerator\n",
        "import numpy as np\n",
        "from keras.models import Sequential\n",
        "from keras.layers import Conv2D, MaxPooling2D, Flatten, Dense\n",
        "from tensorflow.keras.preprocessing import image\n",
        "from keras.applications.vgg16 import preprocess_input, decode_predictions\n",
        "from keras.callbacks import ModelCheckpoint, EarlyStopping,ReduceLROnPlateau\n",
        "from tensorflow.keras.optimizers import RMSprop\n"
      ]
    },
    {
      "cell_type": "code",
      "execution_count": 3,
      "metadata": {
        "id": "rFonekueJb1d",
        "colab": {
          "base_uri": "https://localhost:8080/"
        },
        "outputId": "97a445c1-5ca5-4613-f8ac-b2dbc155712f"
      },
      "outputs": [
        {
          "output_type": "stream",
          "name": "stdout",
          "text": [
            "Found 1447 images belonging to 2 classes.\n",
            "Found 607 images belonging to 2 classes.\n"
          ]
        }
      ],
      "source": [
        "train_datagen = ImageDataGenerator(\n",
        "    rescale=1./255,\n",
        "    shear_range=0.2,\n",
        "    zoom_range=0.2,\n",
        "    horizontal_flip=True\n",
        ")\n",
        "batch_size=32\n",
        "trainset = train_datagen.flow_from_directory(\n",
        "    r\"/content/drive/MyDrive/Colab Notebooks/real_and_fake_face_detection/real_and_fake_face_train\",\n",
        "    target_size=(224, 224),\n",
        "    batch_size=batch_size,\n",
        "     class_mode='binary'\n",
        "\n",
        ")\n",
        "\n",
        "test_datagen = ImageDataGenerator(rescale = 1./255,\n",
        "                                   shear_range = 0.2,\n",
        "                                   zoom_range = 0.2,\n",
        "                                   horizontal_flip = True)\n",
        "batch_size=32\n",
        "testset = test_datagen.flow_from_directory(\n",
        "    r\"/content/drive/MyDrive/Colab Notebooks/real_and_fake_face_detection/real_fake_face_test\",\n",
        "    target_size=(224, 224),\n",
        "    batch_size=batch_size,\n",
        "     class_mode='binary'\n",
        "\n",
        ")\n",
        "\n"
      ]
    },
    {
      "cell_type": "code",
      "source": [
        "def VGG16():\n",
        "    model = Sequential()\n",
        "\n",
        "    # Block 1\n",
        "    model.add(Conv2D(64, (3, 3), activation='relu', padding='same', input_shape=(224, 224, 3)))\n",
        "    model.add(Conv2D(64, (3, 3), activation='relu', padding='same'))\n",
        "    model.add(MaxPooling2D((2, 2), strides=(2, 2)))\n",
        "\n",
        "    # Block 2\n",
        "    model.add(Conv2D(128, (3, 3), activation='relu', padding='same'))\n",
        "    model.add(Conv2D(128, (3, 3), activation='relu', padding='same'))\n",
        "    model.add(MaxPooling2D((2, 2), strides=(2, 2)))\n",
        "\n",
        "    # Block 3\n",
        "    model.add(Conv2D(256, (3, 3), activation='relu', padding='same'))\n",
        "    model.add(Conv2D(256, (3, 3), activation='relu', padding='same'))\n",
        "    model.add(Conv2D(256, (3, 3), activation='relu', padding='same'))\n",
        "    model.add(MaxPooling2D((2, 2), strides=(2, 2)))\n",
        "\n",
        "    # Block 4\n",
        "    model.add(Conv2D(512, (3, 3), activation='relu', padding='same'))\n",
        "    model.add(Conv2D(512, (3, 3), activation='relu', padding='same'))\n",
        "    model.add(Conv2D(512, (3, 3), activation='relu', padding='same'))\n",
        "    model.add(MaxPooling2D((2, 2), strides=(2, 2)))\n",
        "\n",
        "    # Block 5\n",
        "    model.add(Conv2D(512, (3, 3), activation='relu', padding='same'))\n",
        "    model.add(Conv2D(512, (3, 3), activation='relu', padding='same'))\n",
        "    model.add(Conv2D(512, (3, 3), activation='relu', padding='same'))\n",
        "    model.add(MaxPooling2D((2, 2), strides=(2, 2)))\n",
        "\n",
        "    # Fully connected layers\n",
        "    model.add(Flatten())\n",
        "    model.add(Dense(4096, activation='relu'))\n",
        "    model.add(Dense(4096, activation='relu'))\n",
        "    model.add(Dense(1, activation='sigmoid'))\n",
        "\n",
        "    return model\n",
        "\n",
        "vgg16_model = VGG16()\n"
      ],
      "metadata": {
        "id": "-GdiK2hD2PAg"
      },
      "execution_count": 4,
      "outputs": []
    },
    {
      "cell_type": "code",
      "source": [
        "opt = RMSprop(learning_rate=0.008)\n",
        "vgg16_model.compile(optimizer=opt, loss='binary_crossentropy', metrics=['accuracy'])\n"
      ],
      "metadata": {
        "id": "3uh3j6Wv2T2G"
      },
      "execution_count": 5,
      "outputs": []
    },
    {
      "cell_type": "code",
      "source": [
        "vgg16_model.summary()"
      ],
      "metadata": {
        "colab": {
          "base_uri": "https://localhost:8080/"
        },
        "id": "rQTQQqqR2Xxb",
        "outputId": "086d5981-9af9-4abb-cd26-be315da653cf"
      },
      "execution_count": 6,
      "outputs": [
        {
          "output_type": "stream",
          "name": "stdout",
          "text": [
            "Model: \"sequential\"\n",
            "_________________________________________________________________\n",
            " Layer (type)                Output Shape              Param #   \n",
            "=================================================================\n",
            " conv2d (Conv2D)             (None, 224, 224, 64)      1792      \n",
            "                                                                 \n",
            " conv2d_1 (Conv2D)           (None, 224, 224, 64)      36928     \n",
            "                                                                 \n",
            " max_pooling2d (MaxPooling2  (None, 112, 112, 64)      0         \n",
            " D)                                                              \n",
            "                                                                 \n",
            " conv2d_2 (Conv2D)           (None, 112, 112, 128)     73856     \n",
            "                                                                 \n",
            " conv2d_3 (Conv2D)           (None, 112, 112, 128)     147584    \n",
            "                                                                 \n",
            " max_pooling2d_1 (MaxPoolin  (None, 56, 56, 128)       0         \n",
            " g2D)                                                            \n",
            "                                                                 \n",
            " conv2d_4 (Conv2D)           (None, 56, 56, 256)       295168    \n",
            "                                                                 \n",
            " conv2d_5 (Conv2D)           (None, 56, 56, 256)       590080    \n",
            "                                                                 \n",
            " conv2d_6 (Conv2D)           (None, 56, 56, 256)       590080    \n",
            "                                                                 \n",
            " max_pooling2d_2 (MaxPoolin  (None, 28, 28, 256)       0         \n",
            " g2D)                                                            \n",
            "                                                                 \n",
            " conv2d_7 (Conv2D)           (None, 28, 28, 512)       1180160   \n",
            "                                                                 \n",
            " conv2d_8 (Conv2D)           (None, 28, 28, 512)       2359808   \n",
            "                                                                 \n",
            " conv2d_9 (Conv2D)           (None, 28, 28, 512)       2359808   \n",
            "                                                                 \n",
            " max_pooling2d_3 (MaxPoolin  (None, 14, 14, 512)       0         \n",
            " g2D)                                                            \n",
            "                                                                 \n",
            " conv2d_10 (Conv2D)          (None, 14, 14, 512)       2359808   \n",
            "                                                                 \n",
            " conv2d_11 (Conv2D)          (None, 14, 14, 512)       2359808   \n",
            "                                                                 \n",
            " conv2d_12 (Conv2D)          (None, 14, 14, 512)       2359808   \n",
            "                                                                 \n",
            " max_pooling2d_4 (MaxPoolin  (None, 7, 7, 512)         0         \n",
            " g2D)                                                            \n",
            "                                                                 \n",
            " flatten (Flatten)           (None, 25088)             0         \n",
            "                                                                 \n",
            " dense (Dense)               (None, 4096)              102764544 \n",
            "                                                                 \n",
            " dense_1 (Dense)             (None, 4096)              16781312  \n",
            "                                                                 \n",
            " dense_2 (Dense)             (None, 1)                 4097      \n",
            "                                                                 \n",
            "=================================================================\n",
            "Total params: 134264641 (512.18 MB)\n",
            "Trainable params: 134264641 (512.18 MB)\n",
            "Non-trainable params: 0 (0.00 Byte)\n",
            "_________________________________________________________________\n"
          ]
        }
      ]
    },
    {
      "cell_type": "code",
      "source": [
        "trainset.samples // batch_size"
      ],
      "metadata": {
        "colab": {
          "base_uri": "https://localhost:8080/"
        },
        "id": "s9WzCotM2gCL",
        "outputId": "d12f15e4-a223-417f-b3e1-f2c0abf5816e"
      },
      "execution_count": 7,
      "outputs": [
        {
          "output_type": "execute_result",
          "data": {
            "text/plain": [
              "45"
            ]
          },
          "metadata": {},
          "execution_count": 7
        }
      ]
    },
    {
      "cell_type": "code",
      "source": [
        "testset.samples // batch_size"
      ],
      "metadata": {
        "colab": {
          "base_uri": "https://localhost:8080/"
        },
        "id": "jcCmHGrj2pJS",
        "outputId": "63a7989a-d570-4730-c53e-0a5d4e4b42d2"
      },
      "execution_count": 8,
      "outputs": [
        {
          "output_type": "execute_result",
          "data": {
            "text/plain": [
              "18"
            ]
          },
          "metadata": {},
          "execution_count": 8
        }
      ]
    },
    {
      "cell_type": "code",
      "source": [
        "lr_scheduler = ReduceLROnPlateau(monitor='accuracy', factor=0.1, patience=2, verbose=1)\n",
        "\n",
        "checkpoint = ModelCheckpoint(\"vgg16_1.h5\", monitor='val_accuracy', verbose=1,\n",
        "                             save_best_only=True, save_weights_only=False, mode='max', period=1)\n",
        "#early = EarlyStopping(monitor='val_accuracy', min_delta=0, patience=7, verbose=1, mode='max')\n",
        "\n",
        "history = vgg16_model.fit(\n",
        "    trainset,\n",
        "    steps_per_epoch=trainset.samples // batch_size,\n",
        "    validation_data=testset,\n",
        "    epochs=15,\n",
        "    validation_steps=testset.samples // batch_size,\n",
        "    callbacks=[lr_scheduler,checkpoint]\n",
        ")\n"
      ],
      "metadata": {
        "colab": {
          "base_uri": "https://localhost:8080/"
        },
        "id": "45FGOCrS2afE",
        "outputId": "ec4d3bfa-ea31-4550-c94d-2fc3ae083c6f"
      },
      "execution_count": 10,
      "outputs": [
        {
          "output_type": "stream",
          "name": "stderr",
          "text": [
            "WARNING:tensorflow:`period` argument is deprecated. Please use `save_freq` to specify the frequency in number of batches seen.\n"
          ]
        },
        {
          "output_type": "stream",
          "name": "stdout",
          "text": [
            "Epoch 1/15\n",
            "45/45 [==============================] - ETA: 0s - loss: 165323849728.0000 - accuracy: 0.5088\n",
            "Epoch 1: val_accuracy improved from -inf to 0.49306, saving model to vgg16_1.h5\n"
          ]
        },
        {
          "output_type": "stream",
          "name": "stderr",
          "text": [
            "/usr/local/lib/python3.10/dist-packages/keras/src/engine/training.py:3000: UserWarning: You are saving your model as an HDF5 file via `model.save()`. This file format is considered legacy. We recommend using instead the native Keras format, e.g. `model.save('my_model.keras')`.\n",
            "  saving_api.save_model(\n"
          ]
        },
        {
          "output_type": "stream",
          "name": "stdout",
          "text": [
            "\b\b\b\b\b\b\b\b\b\b\b\b\b\b\b\b\b\b\b\b\b\b\b\b\b\b\b\b\b\b\b\b\b\b\b\b\b\b\b\b\b\b\b\b\b\b\b\b\b\b\b\b\b\b\b\b\b\b\b\b\b\b\b\b\b\b\b\b\b\b\b\b\b\b\b\b\b\b\b\b\b\b\b\b\b\b\b\b\b\b\b\b\b\r45/45 [==============================] - 516s 11s/step - loss: 165323849728.0000 - accuracy: 0.5088 - val_loss: 222.5262 - val_accuracy: 0.4931 - lr: 0.0080\n",
            "Epoch 2/15\n",
            "45/45 [==============================] - ETA: 0s - loss: 57.7701 - accuracy: 0.4707\n",
            "Epoch 2: val_accuracy improved from 0.49306 to 0.51042, saving model to vgg16_1.h5\n",
            "45/45 [==============================] - 64s 1s/step - loss: 57.7701 - accuracy: 0.4707 - val_loss: 10.8645 - val_accuracy: 0.5104 - lr: 0.0080\n",
            "Epoch 3/15\n",
            "45/45 [==============================] - ETA: 0s - loss: 1483.7410 - accuracy: 0.4848\n",
            "Epoch 3: ReduceLROnPlateau reducing learning rate to 0.000800000037997961.\n",
            "\n",
            "Epoch 3: val_accuracy did not improve from 0.51042\n",
            "45/45 [==============================] - 49s 1s/step - loss: 1483.7410 - accuracy: 0.4848 - val_loss: 35.4407 - val_accuracy: 0.4948 - lr: 0.0080\n",
            "Epoch 4/15\n",
            "45/45 [==============================] - ETA: 0s - loss: 7.7956 - accuracy: 0.4996\n",
            "Epoch 4: val_accuracy did not improve from 0.51042\n",
            "45/45 [==============================] - 58s 1s/step - loss: 7.7956 - accuracy: 0.4996 - val_loss: 11.1675 - val_accuracy: 0.5017 - lr: 8.0000e-04\n",
            "Epoch 5/15\n",
            "45/45 [==============================] - ETA: 0s - loss: 5.5410 - accuracy: 0.4996\n",
            "Epoch 5: ReduceLROnPlateau reducing learning rate to 8.000000379979611e-05.\n",
            "\n",
            "Epoch 5: val_accuracy did not improve from 0.51042\n",
            "45/45 [==============================] - 51s 1s/step - loss: 5.5410 - accuracy: 0.4996 - val_loss: 1.5155 - val_accuracy: 0.4948 - lr: 8.0000e-04\n",
            "Epoch 6/15\n",
            "45/45 [==============================] - ETA: 0s - loss: 0.7529 - accuracy: 0.5314\n",
            "Epoch 6: val_accuracy did not improve from 0.51042\n",
            "45/45 [==============================] - 50s 1s/step - loss: 0.7529 - accuracy: 0.5314 - val_loss: 0.9203 - val_accuracy: 0.5035 - lr: 8.0000e-05\n",
            "Epoch 7/15\n",
            "45/45 [==============================] - ETA: 0s - loss: 0.7890 - accuracy: 0.5145\n",
            "Epoch 7: val_accuracy did not improve from 0.51042\n",
            "45/45 [==============================] - 50s 1s/step - loss: 0.7890 - accuracy: 0.5145 - val_loss: 0.8478 - val_accuracy: 0.5035 - lr: 8.0000e-05\n",
            "Epoch 8/15\n",
            "45/45 [==============================] - ETA: 0s - loss: 0.9167 - accuracy: 0.5046\n",
            "Epoch 8: ReduceLROnPlateau reducing learning rate to 8.000000525498762e-06.\n",
            "\n",
            "Epoch 8: val_accuracy did not improve from 0.51042\n",
            "45/45 [==============================] - 57s 1s/step - loss: 0.9167 - accuracy: 0.5046 - val_loss: 0.7625 - val_accuracy: 0.5104 - lr: 8.0000e-05\n",
            "Epoch 9/15\n",
            "45/45 [==============================] - ETA: 0s - loss: 0.6989 - accuracy: 0.5187\n",
            "Epoch 9: val_accuracy did not improve from 0.51042\n",
            "45/45 [==============================] - 58s 1s/step - loss: 0.6989 - accuracy: 0.5187 - val_loss: 0.6947 - val_accuracy: 0.5104 - lr: 8.0000e-06\n",
            "Epoch 10/15\n",
            "45/45 [==============================] - ETA: 0s - loss: 0.7054 - accuracy: 0.5095\n",
            "Epoch 10: ReduceLROnPlateau reducing learning rate to 8.000000889296644e-07.\n",
            "\n",
            "Epoch 10: val_accuracy did not improve from 0.51042\n",
            "45/45 [==============================] - 57s 1s/step - loss: 0.7054 - accuracy: 0.5095 - val_loss: 0.6946 - val_accuracy: 0.5052 - lr: 8.0000e-06\n",
            "Epoch 11/15\n",
            "45/45 [==============================] - ETA: 0s - loss: 0.6928 - accuracy: 0.5329\n",
            "Epoch 11: val_accuracy did not improve from 0.51042\n",
            "45/45 [==============================] - 50s 1s/step - loss: 0.6928 - accuracy: 0.5329 - val_loss: 0.6951 - val_accuracy: 0.5017 - lr: 8.0000e-07\n",
            "Epoch 12/15\n",
            "45/45 [==============================] - ETA: 0s - loss: 0.6930 - accuracy: 0.5314\n",
            "Epoch 12: val_accuracy did not improve from 0.51042\n",
            "45/45 [==============================] - 51s 1s/step - loss: 0.6930 - accuracy: 0.5314 - val_loss: 0.6945 - val_accuracy: 0.5087 - lr: 8.0000e-07\n",
            "Epoch 13/15\n",
            "45/45 [==============================] - ETA: 0s - loss: 0.6925 - accuracy: 0.5145\n",
            "Epoch 13: ReduceLROnPlateau reducing learning rate to 8.000000661922968e-08.\n",
            "\n",
            "Epoch 13: val_accuracy did not improve from 0.51042\n",
            "45/45 [==============================] - 50s 1s/step - loss: 0.6925 - accuracy: 0.5145 - val_loss: 0.6974 - val_accuracy: 0.5035 - lr: 8.0000e-07\n",
            "Epoch 14/15\n",
            "45/45 [==============================] - ETA: 0s - loss: 0.6908 - accuracy: 0.5371\n",
            "Epoch 14: val_accuracy did not improve from 0.51042\n",
            "45/45 [==============================] - 58s 1s/step - loss: 0.6908 - accuracy: 0.5371 - val_loss: 0.6965 - val_accuracy: 0.5017 - lr: 8.0000e-08\n",
            "Epoch 15/15\n",
            "45/45 [==============================] - ETA: 0s - loss: 0.6908 - accuracy: 0.5357\n",
            "Epoch 15: val_accuracy did not improve from 0.51042\n",
            "45/45 [==============================] - 58s 1s/step - loss: 0.6908 - accuracy: 0.5357 - val_loss: 0.6963 - val_accuracy: 0.5035 - lr: 8.0000e-08\n"
          ]
        }
      ]
    },
    {
      "cell_type": "code",
      "source": [
        "import matplotlib.pyplot as plt\n",
        "plt.plot(history.history[\"accuracy\"])\n",
        "plt.title(\"Model Accuracy and Loss\")\n",
        "plt.ylabel(\"Value\")\n",
        "plt.xlabel(\"Epoch\")\n",
        "plt.legend([\"Accuracy\", \"Loss\"])\n",
        "plt.grid(True)\n",
        "plt.show()\n"
      ],
      "metadata": {
        "colab": {
          "base_uri": "https://localhost:8080/",
          "height": 472
        },
        "id": "ogX0oBl13AkE",
        "outputId": "009048c6-fc6d-407e-8334-de398b11c5d0"
      },
      "execution_count": 11,
      "outputs": [
        {
          "output_type": "display_data",
          "data": {
            "text/plain": [
              "<Figure size 640x480 with 1 Axes>"
            ],
            "image/png": "[encoded data removed]"
          },
          "metadata": {}
        }
      ]
    },
    {
      "cell_type": "code",
      "source": [
        "import matplotlib.pyplot as plt\n",
        "\n",
        "plt.plot(history.history[\"loss\"])\n",
        "plt.title(\"Model Accuracy and Loss\")\n",
        "plt.ylabel(\"Value\")\n",
        "plt.xlabel(\"Epoch\")\n",
        "plt.legend([ \"Loss\"])\n",
        "plt.grid(True)\n",
        "plt.show()\n"
      ],
      "metadata": {
        "id": "9l1hwadq7EKJ",
        "colab": {
          "base_uri": "https://localhost:8080/",
          "height": 472
        },
        "outputId": "35067fa0-22d5-47aa-af1d-2522cb3a8296"
      },
      "execution_count": 12,
      "outputs": [
        {
          "output_type": "display_data",
          "data": {
            "text/plain": [
              "<Figure size 640x480 with 1 Axes>"
            ],
            "image/png": "[encoded data removed]"
          },
          "metadata": {}
        }
      ]
    },
    {
      "cell_type": "code",
      "source": [],
      "metadata": {
        "id": "nlBmI16xTj-c"
      },
      "execution_count": null,
      "outputs": []
    }
  ],
  "metadata": {
    "accelerator": "GPU",
    "colab": {
      "provenance": [],
      "gpuType": "T4",
      "toc_visible": true,
      "mount_file_id": "1rkiVY-m_wX8NYJGxXxXQ19ASJT5eCCb8",
      "authorship_tag": "ABX9TyNry7EfpBbIuDvyBD/64T0J",
      "include_colab_link": true
    },
    "kernelspec": {
      "display_name": "Python 3",
      "name": "python3"
    },
    "language_info": {
      "name": "python"
    }
  },
  "nbformat": 4,
  "nbformat_minor": 0
}